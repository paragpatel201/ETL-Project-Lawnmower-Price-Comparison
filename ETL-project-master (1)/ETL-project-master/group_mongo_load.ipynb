{
 "cells": [
  {
   "cell_type": "code",
   "execution_count": 1,
   "metadata": {},
   "outputs": [],
   "source": [
    "import pymongo\n",
    "import pandas as pd\n",
    "import json"
   ]
  },
  {
   "cell_type": "code",
   "execution_count": 2,
   "metadata": {},
   "outputs": [],
   "source": [
    "conn = \"mongodb://localhost:27017\"\n",
    "client = pymongo.MongoClient(conn)"
   ]
  },
  {
   "cell_type": "code",
   "execution_count": 3,
   "metadata": {},
   "outputs": [],
   "source": [
    "db = client.lawn_mower_inventory"
   ]
  },
  {
   "cell_type": "code",
   "execution_count": 4,
   "metadata": {},
   "outputs": [
    {
     "data": {
      "text/plain": [
       "[]"
      ]
     },
     "execution_count": 4,
     "metadata": {},
     "output_type": "execute_result"
    }
   ],
   "source": [
    "db.lawn_mower.drop()\n",
    "db.list_collection_names()"
   ]
  },
  {
   "cell_type": "code",
   "execution_count": 5,
   "metadata": {
    "scrolled": true
   },
   "outputs": [],
   "source": [
    "jonathan_data = \"amazon_lawn_mower_cleaned.csv\"\n",
    "jamie_data = \"homedepot_lawn_mower_cleaned.csv\"\n",
    "parag_data = \"walmart_lawn_mower_cleaned.csv\"\n",
    "preeti_data = \"lowes_lawn_mower_cleaned.csv\"\n",
    "\n",
    "jonathan_df = pd.read_csv(jonathan_data)\n",
    "jamie_df = pd.read_csv(jamie_data)\n",
    "parag_df = pd.read_csv(parag_data)\n",
    "preeti_df = pd.read_csv(preeti_data)\n"
   ]
  },
  {
   "cell_type": "code",
   "execution_count": 6,
   "metadata": {},
   "outputs": [],
   "source": [
    "jonathan_json = json.loads(jonathan_df.to_json(orient='records'))\n",
    "jamie_json = json.loads(jamie_df.to_json(orient='records'))\n",
    "parag_json = json.loads(parag_df.to_json(orient='records'))\n",
    "preeti_json = json.loads(preeti_df.to_json(orient='records'))"
   ]
  },
  {
   "cell_type": "code",
   "execution_count": 7,
   "metadata": {},
   "outputs": [
    {
     "data": {
      "text/plain": [
       "<pymongo.results.InsertManyResult at 0x162cb6deb88>"
      ]
     },
     "execution_count": 7,
     "metadata": {},
     "output_type": "execute_result"
    }
   ],
   "source": [
    "db.lawn_mower.insert_many(jonathan_json)\n",
    "db.lawn_mower.insert_many(jamie_json)\n",
    "db.lawn_mower.insert_many(parag_json)\n",
    "db.lawn_mower.insert_many(preeti_json)"
   ]
  },
  {
   "cell_type": "code",
   "execution_count": 8,
   "metadata": {},
   "outputs": [
    {
     "data": {
      "text/plain": [
       "['lawn_mower']"
      ]
     },
     "execution_count": 8,
     "metadata": {},
     "output_type": "execute_result"
    }
   ],
   "source": [
    "db.list_collection_names()"
   ]
  },
  {
   "cell_type": "code",
   "execution_count": null,
   "metadata": {},
   "outputs": [],
   "source": []
  }
 ],
 "metadata": {
  "kernelspec": {
   "display_name": "Python 3.7.5 64-bit ('PythonData': conda)",
   "language": "python",
   "name": "python37564bitpythondatacondaadf2dc53d8344d2f91c5b97fe5b73276"
  },
  "language_info": {
   "codemirror_mode": {
    "name": "ipython",
    "version": 3
   },
   "file_extension": ".py",
   "mimetype": "text/x-python",
   "name": "python",
   "nbconvert_exporter": "python",
   "pygments_lexer": "ipython3",
   "version": "3.7.5"
  }
 },
 "nbformat": 4,
 "nbformat_minor": 2
}
